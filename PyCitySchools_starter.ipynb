{
 "cells": [
  {
   "cell_type": "markdown",
   "metadata": {},
   "source": [
    "### Note\n",
    "* Instructions have been included for each segment. You do not have to follow them exactly, but they are included to help you think through the steps."
   ]
  },
  {
   "cell_type": "code",
   "execution_count": 1,
   "metadata": {},
   "outputs": [
    {
     "name": "stdout",
     "output_type": "stream",
     "text": [
      "       Student ID       student_name gender grade         school_name  \\\n",
      "0               0       Paul Bradley      M   9th   Huang High School   \n",
      "1               1       Victor Smith      M  12th   Huang High School   \n",
      "2               2    Kevin Rodriguez      M  12th   Huang High School   \n",
      "3               3  Dr. Richard Scott      M  12th   Huang High School   \n",
      "4               4         Bonnie Ray      F   9th   Huang High School   \n",
      "...           ...                ...    ...   ...                 ...   \n",
      "39165       39165       Donna Howard      F  12th  Thomas High School   \n",
      "39166       39166          Dawn Bell      F  10th  Thomas High School   \n",
      "39167       39167     Rebecca Tanner      F   9th  Thomas High School   \n",
      "39168       39168       Desiree Kidd      F  10th  Thomas High School   \n",
      "39169       39169    Carolyn Jackson      F  11th  Thomas High School   \n",
      "\n",
      "       reading_score  math_score  School ID      type  size   budget  \n",
      "0                 66          79          0  District  2917  1910635  \n",
      "1                 94          61          0  District  2917  1910635  \n",
      "2                 90          60          0  District  2917  1910635  \n",
      "3                 67          58          0  District  2917  1910635  \n",
      "4                 97          84          0  District  2917  1910635  \n",
      "...              ...         ...        ...       ...   ...      ...  \n",
      "39165             99          90         14   Charter  1635  1043130  \n",
      "39166             95          70         14   Charter  1635  1043130  \n",
      "39167             73          84         14   Charter  1635  1043130  \n",
      "39168             99          90         14   Charter  1635  1043130  \n",
      "39169             95          75         14   Charter  1635  1043130  \n",
      "\n",
      "[39170 rows x 11 columns]\n"
     ]
    }
   ],
   "source": [
    "# Dependencies and Setup\n",
    "from email import header\n",
    "import pandas as pd\n",
    "\n",
    "# File to Load (Remember to Change These)\n",
    "school_data = \"Resources/schools_complete.csv\"\n",
    "student_data = \"Resources/students_complete.csv\"\n",
    "\n",
    "# Read School and Student Data File and store into Pandas DataFrames\n",
    "school_data = pd.read_csv(school_data)\n",
    "student_data = pd.read_csv(student_data)\n",
    "\n",
    "# Combine the data into a single dataset.  \n",
    "school_data_complete = pd.merge(student_data, school_data, how=\"left\", on=[\"school_name\", \"school_name\"])\n",
    "print(school_data_complete)"
   ]
  },
  {
   "cell_type": "code",
   "execution_count": 2,
   "metadata": {},
   "outputs": [
    {
     "data": {
      "text/plain": [
       "15"
      ]
     },
     "execution_count": 2,
     "metadata": {},
     "output_type": "execute_result"
    }
   ],
   "source": [
    "# total number of schools\n",
    "\n",
    "total_number_schools= len(school_data)\n",
    "total_number_schools"
   ]
  },
  {
   "cell_type": "code",
   "execution_count": 3,
   "metadata": {},
   "outputs": [
    {
     "data": {
      "text/plain": [
       "39170"
      ]
     },
     "execution_count": 3,
     "metadata": {},
     "output_type": "execute_result"
    }
   ],
   "source": [
    "#total number of students\n",
    "total_number_students= len(student_data)\n",
    "total_number_students"
   ]
  },
  {
   "cell_type": "code",
   "execution_count": 4,
   "metadata": {},
   "outputs": [
    {
     "data": {
      "text/plain": [
       "24649428"
      ]
     },
     "execution_count": 4,
     "metadata": {},
     "output_type": "execute_result"
    }
   ],
   "source": [
    "total_budget = school_data[\"budget\"].sum()\n",
    "\n",
    "total_budget"
   ]
  },
  {
   "cell_type": "code",
   "execution_count": 8,
   "metadata": {},
   "outputs": [
    {
     "data": {
      "text/plain": [
       "Index(['Student ID', 'student_name', 'gender', 'grade', 'school_name',\n",
       "       'reading_score', 'math_score'],\n",
       "      dtype='object')"
      ]
     },
     "execution_count": 8,
     "metadata": {},
     "output_type": "execute_result"
    }
   ],
   "source": [
    "student_data.columns"
   ]
  },
  {
   "cell_type": "code",
   "execution_count": 5,
   "metadata": {},
   "outputs": [
    {
     "data": {
      "text/plain": [
       "78.98537145774827"
      ]
     },
     "execution_count": 5,
     "metadata": {},
     "output_type": "execute_result"
    }
   ],
   "source": [
    "\n",
    "#average math score\n",
    "avg_math_score = (student_data[\"math_score\"]).mean()\n",
    "avg_math_score"
   ]
  },
  {
   "cell_type": "code",
   "execution_count": 6,
   "metadata": {},
   "outputs": [
    {
     "data": {
      "text/plain": [
       "81.87784018381414"
      ]
     },
     "execution_count": 6,
     "metadata": {},
     "output_type": "execute_result"
    }
   ],
   "source": [
    "#avg read score\n",
    "\n",
    "avg_read_score = (student_data[\"reading_score\"]).mean()\n",
    "avg_read_score"
   ]
  },
  {
   "cell_type": "code",
   "execution_count": 7,
   "metadata": {},
   "outputs": [
    {
     "data": {
      "text/plain": [
       "74.9808526933878"
      ]
     },
     "execution_count": 7,
     "metadata": {},
     "output_type": "execute_result"
    }
   ],
   "source": [
    "#percent of students w/ passing math score >= 70\n",
    "\n",
    "\n",
    "\n",
    "passing_math_df= student_data[\"math_score\"]>=70\n",
    "cent_passing_math= passing_math_df.sum()\n",
    "\n",
    "passing_math_percent= (cent_passing_math/total_number_students)* 100\n",
    "passing_math_percent\n"
   ]
  },
  {
   "cell_type": "code",
   "execution_count": 9,
   "metadata": {},
   "outputs": [
    {
     "data": {
      "text/plain": [
       "85.80546336482001"
      ]
     },
     "execution_count": 9,
     "metadata": {},
     "output_type": "execute_result"
    }
   ],
   "source": [
    "#percent studfents w/ passing reading score\n",
    "passing_read_df= student_data[\"reading_score\"]>=70\n",
    "cent_passing_read= passing_read_df.sum()\n",
    "\n",
    "passing_read_percent= (cent_passing_read/total_number_students)* 100\n",
    "passing_read_percent"
   ]
  },
  {
   "cell_type": "code",
   "execution_count": 11,
   "metadata": {},
   "outputs": [
    {
     "data": {
      "text/plain": [
       "65.17232575950983"
      ]
     },
     "execution_count": 11,
     "metadata": {},
     "output_type": "execute_result"
    }
   ],
   "source": [
    "passing_df= student_data.loc[(student_data[\"reading_score\"]>= 70) & (student_data[\"math_score\"]>=70)]\n",
    "cent_passing= passing_df.shape[0]\n",
    "\n",
    "passing_percent= (cent_passing/total_number_students)* 100\n",
    "passing_percent"
   ]
  },
  {
   "cell_type": "markdown",
   "metadata": {},
   "source": [
    "## District Summary\n",
    "\n",
    "* Calculate the total number of schools\n",
    "\n",
    "* Calculate the total number of students\n",
    "\n",
    "* Calculate the total budget\n",
    "\n",
    "* Calculate the average math score \n",
    "\n",
    "* Calculate the average reading score\n",
    "\n",
    "* Calculate the percentage of students with a passing math score (70 or greater)\n",
    "\n",
    "* Calculate the percentage of students with a passing reading score (70 or greater)\n",
    "\n",
    "* Calculate the percentage of students who passed math **and** reading (% Overall Passing)\n",
    "\n",
    "* Create a dataframe to hold the above results\n",
    "\n",
    "* Optional: give the displayed data cleaner formatting"
   ]
  },
  {
   "cell_type": "code",
   "execution_count": 12,
   "metadata": {},
   "outputs": [
    {
     "data": {
      "text/plain": [
       "{'total schools': [15],\n",
       " 'total students': [39170],\n",
       " 'total budget': [24649428],\n",
       " 'avg_math_score': [78.98537145774827],\n",
       " 'avg_reading score': [81.87784018381414],\n",
       " 'percent passing reading': [33610],\n",
       " 'passing_math_percent': [29370],\n",
       " 'percent passing math and reading': [25528]}"
      ]
     },
     "execution_count": 12,
     "metadata": {},
     "output_type": "execute_result"
    }
   ],
   "source": [
    "#district summary\n",
    "district_summary_df = ({\"total schools\":[total_number_schools],\n",
    "                        \"total students\": [total_number_students],\n",
    "                        \"total budget\":[total_budget],\n",
    "                        \"avg math score\":[avg_math_score],\n",
    "                        \"avg reading score\":[avg_read_score],\n",
    "                        \"percent passing reading\":[cent_passing_read],\n",
    "                        \"passing_math_percent\":[cent_passing_math],\n",
    "                        \"percent passing math and reading\":[cent_passing]})\n",
    "district_summary_df"
   ]
  },
  {
   "cell_type": "markdown",
   "metadata": {},
   "source": [
    "## School Summary"
   ]
  },
  {
   "cell_type": "markdown",
   "metadata": {},
   "source": [
    "* Create an overview table that summarizes key metrics about each school, including:\n",
    "  * School Name\n",
    "  * School Type\n",
    "  * Total Students\n",
    "  * Total School Budget\n",
    "  * Per Student Budget\n",
    "  * Average Math Score\n",
    "  * Average Reading Score\n",
    "  * % Passing Math\n",
    "  * % Passing Reading\n",
    "  * % Overall Passing (The percentage of students that passed math **and** reading.)\n",
    "  \n",
    "* Create a dataframe to hold the above results"
   ]
  },
  {
   "cell_type": "code",
   "execution_count": 47,
   "metadata": {},
   "outputs": [
    {
     "data": {
      "text/html": [
       "<div>\n",
       "<style scoped>\n",
       "    .dataframe tbody tr th:only-of-type {\n",
       "        vertical-align: middle;\n",
       "    }\n",
       "\n",
       "    .dataframe tbody tr th {\n",
       "        vertical-align: top;\n",
       "    }\n",
       "\n",
       "    .dataframe thead th {\n",
       "        text-align: right;\n",
       "    }\n",
       "</style>\n",
       "<table border=\"1\" class=\"dataframe\">\n",
       "  <thead>\n",
       "    <tr style=\"text-align: right;\">\n",
       "      <th></th>\n",
       "      <th>school_name</th>\n",
       "      <th>type</th>\n",
       "    </tr>\n",
       "  </thead>\n",
       "  <tbody>\n",
       "    <tr>\n",
       "      <th>0</th>\n",
       "      <td>Huang High School</td>\n",
       "      <td>District</td>\n",
       "    </tr>\n",
       "    <tr>\n",
       "      <th>1</th>\n",
       "      <td>Figueroa High School</td>\n",
       "      <td>District</td>\n",
       "    </tr>\n",
       "    <tr>\n",
       "      <th>2</th>\n",
       "      <td>Shelton High School</td>\n",
       "      <td>Charter</td>\n",
       "    </tr>\n",
       "    <tr>\n",
       "      <th>3</th>\n",
       "      <td>Hernandez High School</td>\n",
       "      <td>District</td>\n",
       "    </tr>\n",
       "    <tr>\n",
       "      <th>4</th>\n",
       "      <td>Griffin High School</td>\n",
       "      <td>Charter</td>\n",
       "    </tr>\n",
       "    <tr>\n",
       "      <th>5</th>\n",
       "      <td>Wilson High School</td>\n",
       "      <td>Charter</td>\n",
       "    </tr>\n",
       "    <tr>\n",
       "      <th>6</th>\n",
       "      <td>Cabrera High School</td>\n",
       "      <td>Charter</td>\n",
       "    </tr>\n",
       "    <tr>\n",
       "      <th>7</th>\n",
       "      <td>Bailey High School</td>\n",
       "      <td>District</td>\n",
       "    </tr>\n",
       "    <tr>\n",
       "      <th>8</th>\n",
       "      <td>Holden High School</td>\n",
       "      <td>Charter</td>\n",
       "    </tr>\n",
       "    <tr>\n",
       "      <th>9</th>\n",
       "      <td>Pena High School</td>\n",
       "      <td>Charter</td>\n",
       "    </tr>\n",
       "    <tr>\n",
       "      <th>10</th>\n",
       "      <td>Wright High School</td>\n",
       "      <td>Charter</td>\n",
       "    </tr>\n",
       "    <tr>\n",
       "      <th>11</th>\n",
       "      <td>Rodriguez High School</td>\n",
       "      <td>District</td>\n",
       "    </tr>\n",
       "    <tr>\n",
       "      <th>12</th>\n",
       "      <td>Johnson High School</td>\n",
       "      <td>District</td>\n",
       "    </tr>\n",
       "    <tr>\n",
       "      <th>13</th>\n",
       "      <td>Ford High School</td>\n",
       "      <td>District</td>\n",
       "    </tr>\n",
       "    <tr>\n",
       "      <th>14</th>\n",
       "      <td>Thomas High School</td>\n",
       "      <td>Charter</td>\n",
       "    </tr>\n",
       "  </tbody>\n",
       "</table>\n",
       "</div>"
      ],
      "text/plain": [
       "              school_name      type\n",
       "0       Huang High School  District\n",
       "1    Figueroa High School  District\n",
       "2     Shelton High School   Charter\n",
       "3   Hernandez High School  District\n",
       "4     Griffin High School   Charter\n",
       "5      Wilson High School   Charter\n",
       "6     Cabrera High School   Charter\n",
       "7      Bailey High School  District\n",
       "8      Holden High School   Charter\n",
       "9        Pena High School   Charter\n",
       "10     Wright High School   Charter\n",
       "11  Rodriguez High School  District\n",
       "12    Johnson High School  District\n",
       "13       Ford High School  District\n",
       "14     Thomas High School   Charter"
      ]
     },
     "execution_count": 47,
     "metadata": {},
     "output_type": "execute_result"
    }
   ],
   "source": [
    "#school name and type, now its a DF\n",
    "\n",
    "school_name_type= school_data[[\"school_name\",\"type\"]]\n",
    "school_name_type"
   ]
  },
  {
   "cell_type": "code",
   "execution_count": 18,
   "metadata": {},
   "outputs": [
    {
     "data": {
      "text/plain": [
       "0     2917\n",
       "1     2949\n",
       "2     1761\n",
       "3     4635\n",
       "4     1468\n",
       "5     2283\n",
       "6     1858\n",
       "7     4976\n",
       "8      427\n",
       "9      962\n",
       "10    1800\n",
       "11    3999\n",
       "12    4761\n",
       "13    2739\n",
       "14    1635\n",
       "Name: size, dtype: int64"
      ]
     },
     "execution_count": 18,
     "metadata": {},
     "output_type": "execute_result"
    }
   ],
   "source": [
    "#school size series\n",
    "school_size=school_data[\"size\"]\n",
    "school_size"
   ]
  },
  {
   "cell_type": "code",
   "execution_count": 35,
   "metadata": {},
   "outputs": [
    {
     "data": {
      "text/plain": [
       "0     655.0\n",
       "1     639.0\n",
       "2     600.0\n",
       "3     652.0\n",
       "4     625.0\n",
       "5     578.0\n",
       "6     582.0\n",
       "7     628.0\n",
       "8     581.0\n",
       "9     609.0\n",
       "10    583.0\n",
       "11    637.0\n",
       "12    650.0\n",
       "13    644.0\n",
       "14    638.0\n",
       "dtype: float64"
      ]
     },
     "execution_count": 35,
     "metadata": {},
     "output_type": "execute_result"
    }
   ],
   "source": [
    "#total school budget by student count\n",
    "budget_per_student= school_data[\"budget\"]/school_data[\"size\"]\n",
    "budget_per_student\n"
   ]
  },
  {
   "cell_type": "code",
   "execution_count": 30,
   "metadata": {},
   "outputs": [
    {
     "name": "stderr",
     "output_type": "stream",
     "text": [
      "C:\\Users\\andreas h\\AppData\\Local\\Temp\\ipykernel_13240\\203609777.py:1: SettingWithCopyWarning: \n",
      "A value is trying to be set on a copy of a slice from a DataFrame.\n",
      "Try using .loc[row_indexer,col_indexer] = value instead\n",
      "\n",
      "See the caveats in the documentation: https://pandas.pydata.org/pandas-docs/stable/user_guide/indexing.html#returning-a-view-versus-a-copy\n",
      "  school_name_type[\"school size\"]= school_size\n"
     ]
    },
    {
     "data": {
      "text/html": [
       "<div>\n",
       "<style scoped>\n",
       "    .dataframe tbody tr th:only-of-type {\n",
       "        vertical-align: middle;\n",
       "    }\n",
       "\n",
       "    .dataframe tbody tr th {\n",
       "        vertical-align: top;\n",
       "    }\n",
       "\n",
       "    .dataframe thead th {\n",
       "        text-align: right;\n",
       "    }\n",
       "</style>\n",
       "<table border=\"1\" class=\"dataframe\">\n",
       "  <thead>\n",
       "    <tr style=\"text-align: right;\">\n",
       "      <th></th>\n",
       "      <th>school_name</th>\n",
       "      <th>type</th>\n",
       "      <th>school size</th>\n",
       "    </tr>\n",
       "  </thead>\n",
       "  <tbody>\n",
       "    <tr>\n",
       "      <th>0</th>\n",
       "      <td>Huang High School</td>\n",
       "      <td>District</td>\n",
       "      <td>2917</td>\n",
       "    </tr>\n",
       "    <tr>\n",
       "      <th>1</th>\n",
       "      <td>Figueroa High School</td>\n",
       "      <td>District</td>\n",
       "      <td>2949</td>\n",
       "    </tr>\n",
       "    <tr>\n",
       "      <th>2</th>\n",
       "      <td>Shelton High School</td>\n",
       "      <td>Charter</td>\n",
       "      <td>1761</td>\n",
       "    </tr>\n",
       "    <tr>\n",
       "      <th>3</th>\n",
       "      <td>Hernandez High School</td>\n",
       "      <td>District</td>\n",
       "      <td>4635</td>\n",
       "    </tr>\n",
       "    <tr>\n",
       "      <th>4</th>\n",
       "      <td>Griffin High School</td>\n",
       "      <td>Charter</td>\n",
       "      <td>1468</td>\n",
       "    </tr>\n",
       "    <tr>\n",
       "      <th>5</th>\n",
       "      <td>Wilson High School</td>\n",
       "      <td>Charter</td>\n",
       "      <td>2283</td>\n",
       "    </tr>\n",
       "    <tr>\n",
       "      <th>6</th>\n",
       "      <td>Cabrera High School</td>\n",
       "      <td>Charter</td>\n",
       "      <td>1858</td>\n",
       "    </tr>\n",
       "    <tr>\n",
       "      <th>7</th>\n",
       "      <td>Bailey High School</td>\n",
       "      <td>District</td>\n",
       "      <td>4976</td>\n",
       "    </tr>\n",
       "    <tr>\n",
       "      <th>8</th>\n",
       "      <td>Holden High School</td>\n",
       "      <td>Charter</td>\n",
       "      <td>427</td>\n",
       "    </tr>\n",
       "    <tr>\n",
       "      <th>9</th>\n",
       "      <td>Pena High School</td>\n",
       "      <td>Charter</td>\n",
       "      <td>962</td>\n",
       "    </tr>\n",
       "    <tr>\n",
       "      <th>10</th>\n",
       "      <td>Wright High School</td>\n",
       "      <td>Charter</td>\n",
       "      <td>1800</td>\n",
       "    </tr>\n",
       "    <tr>\n",
       "      <th>11</th>\n",
       "      <td>Rodriguez High School</td>\n",
       "      <td>District</td>\n",
       "      <td>3999</td>\n",
       "    </tr>\n",
       "    <tr>\n",
       "      <th>12</th>\n",
       "      <td>Johnson High School</td>\n",
       "      <td>District</td>\n",
       "      <td>4761</td>\n",
       "    </tr>\n",
       "    <tr>\n",
       "      <th>13</th>\n",
       "      <td>Ford High School</td>\n",
       "      <td>District</td>\n",
       "      <td>2739</td>\n",
       "    </tr>\n",
       "    <tr>\n",
       "      <th>14</th>\n",
       "      <td>Thomas High School</td>\n",
       "      <td>Charter</td>\n",
       "      <td>1635</td>\n",
       "    </tr>\n",
       "  </tbody>\n",
       "</table>\n",
       "</div>"
      ],
      "text/plain": [
       "              school_name      type  school size\n",
       "0       Huang High School  District         2917\n",
       "1    Figueroa High School  District         2949\n",
       "2     Shelton High School   Charter         1761\n",
       "3   Hernandez High School  District         4635\n",
       "4     Griffin High School   Charter         1468\n",
       "5      Wilson High School   Charter         2283\n",
       "6     Cabrera High School   Charter         1858\n",
       "7      Bailey High School  District         4976\n",
       "8      Holden High School   Charter          427\n",
       "9        Pena High School   Charter          962\n",
       "10     Wright High School   Charter         1800\n",
       "11  Rodriguez High School  District         3999\n",
       "12    Johnson High School  District         4761\n",
       "13       Ford High School  District         2739\n",
       "14     Thomas High School   Charter         1635"
      ]
     },
     "execution_count": 30,
     "metadata": {},
     "output_type": "execute_result"
    }
   ],
   "source": [
    "\n",
    "\n",
    "\n",
    "school_name_type[\"school size\"]= school_size\n",
    "school_name_type"
   ]
  },
  {
   "cell_type": "code",
   "execution_count": 31,
   "metadata": {},
   "outputs": [
    {
     "data": {
      "text/html": [
       "<div>\n",
       "<style scoped>\n",
       "    .dataframe tbody tr th:only-of-type {\n",
       "        vertical-align: middle;\n",
       "    }\n",
       "\n",
       "    .dataframe tbody tr th {\n",
       "        vertical-align: top;\n",
       "    }\n",
       "\n",
       "    .dataframe thead th {\n",
       "        text-align: right;\n",
       "    }\n",
       "</style>\n",
       "<table border=\"1\" class=\"dataframe\">\n",
       "  <thead>\n",
       "    <tr style=\"text-align: right;\">\n",
       "      <th></th>\n",
       "      <th>Student ID</th>\n",
       "      <th>student_name</th>\n",
       "      <th>gender</th>\n",
       "      <th>grade</th>\n",
       "      <th>reading_score</th>\n",
       "      <th>math_score</th>\n",
       "      <th>School ID</th>\n",
       "      <th>type</th>\n",
       "      <th>size</th>\n",
       "      <th>budget</th>\n",
       "    </tr>\n",
       "    <tr>\n",
       "      <th>school_name</th>\n",
       "      <th></th>\n",
       "      <th></th>\n",
       "      <th></th>\n",
       "      <th></th>\n",
       "      <th></th>\n",
       "      <th></th>\n",
       "      <th></th>\n",
       "      <th></th>\n",
       "      <th></th>\n",
       "      <th></th>\n",
       "    </tr>\n",
       "  </thead>\n",
       "  <tbody>\n",
       "    <tr>\n",
       "      <th>Huang High School</th>\n",
       "      <td>0</td>\n",
       "      <td>Paul Bradley</td>\n",
       "      <td>M</td>\n",
       "      <td>9th</td>\n",
       "      <td>66</td>\n",
       "      <td>79</td>\n",
       "      <td>0</td>\n",
       "      <td>District</td>\n",
       "      <td>2917</td>\n",
       "      <td>1910635</td>\n",
       "    </tr>\n",
       "    <tr>\n",
       "      <th>Huang High School</th>\n",
       "      <td>1</td>\n",
       "      <td>Victor Smith</td>\n",
       "      <td>M</td>\n",
       "      <td>12th</td>\n",
       "      <td>94</td>\n",
       "      <td>61</td>\n",
       "      <td>0</td>\n",
       "      <td>District</td>\n",
       "      <td>2917</td>\n",
       "      <td>1910635</td>\n",
       "    </tr>\n",
       "    <tr>\n",
       "      <th>Huang High School</th>\n",
       "      <td>2</td>\n",
       "      <td>Kevin Rodriguez</td>\n",
       "      <td>M</td>\n",
       "      <td>12th</td>\n",
       "      <td>90</td>\n",
       "      <td>60</td>\n",
       "      <td>0</td>\n",
       "      <td>District</td>\n",
       "      <td>2917</td>\n",
       "      <td>1910635</td>\n",
       "    </tr>\n",
       "    <tr>\n",
       "      <th>Huang High School</th>\n",
       "      <td>3</td>\n",
       "      <td>Dr. Richard Scott</td>\n",
       "      <td>M</td>\n",
       "      <td>12th</td>\n",
       "      <td>67</td>\n",
       "      <td>58</td>\n",
       "      <td>0</td>\n",
       "      <td>District</td>\n",
       "      <td>2917</td>\n",
       "      <td>1910635</td>\n",
       "    </tr>\n",
       "    <tr>\n",
       "      <th>Huang High School</th>\n",
       "      <td>4</td>\n",
       "      <td>Bonnie Ray</td>\n",
       "      <td>F</td>\n",
       "      <td>9th</td>\n",
       "      <td>97</td>\n",
       "      <td>84</td>\n",
       "      <td>0</td>\n",
       "      <td>District</td>\n",
       "      <td>2917</td>\n",
       "      <td>1910635</td>\n",
       "    </tr>\n",
       "  </tbody>\n",
       "</table>\n",
       "</div>"
      ],
      "text/plain": [
       "                   Student ID       student_name gender grade  reading_score  \\\n",
       "school_name                                                                    \n",
       "Huang High School           0       Paul Bradley      M   9th             66   \n",
       "Huang High School           1       Victor Smith      M  12th             94   \n",
       "Huang High School           2    Kevin Rodriguez      M  12th             90   \n",
       "Huang High School           3  Dr. Richard Scott      M  12th             67   \n",
       "Huang High School           4         Bonnie Ray      F   9th             97   \n",
       "\n",
       "                   math_score  School ID      type  size   budget  \n",
       "school_name                                                        \n",
       "Huang High School          79          0  District  2917  1910635  \n",
       "Huang High School          61          0  District  2917  1910635  \n",
       "Huang High School          60          0  District  2917  1910635  \n",
       "Huang High School          58          0  District  2917  1910635  \n",
       "Huang High School          84          0  District  2917  1910635  "
      ]
     },
     "execution_count": 31,
     "metadata": {},
     "output_type": "execute_result"
    }
   ],
   "source": [
    "school_name_type= school_data_complete.set_index(\"school_name\")\n",
    "school_name_type.head()"
   ]
  },
  {
   "cell_type": "code",
   "execution_count": 38,
   "metadata": {},
   "outputs": [
    {
     "data": {
      "text/html": [
       "<div>\n",
       "<style scoped>\n",
       "    .dataframe tbody tr th:only-of-type {\n",
       "        vertical-align: middle;\n",
       "    }\n",
       "\n",
       "    .dataframe tbody tr th {\n",
       "        vertical-align: top;\n",
       "    }\n",
       "\n",
       "    .dataframe thead th {\n",
       "        text-align: right;\n",
       "    }\n",
       "</style>\n",
       "<table border=\"1\" class=\"dataframe\">\n",
       "  <thead>\n",
       "    <tr style=\"text-align: right;\">\n",
       "      <th></th>\n",
       "      <th>Student ID</th>\n",
       "      <th>reading_score</th>\n",
       "      <th>math_score</th>\n",
       "      <th>School ID</th>\n",
       "      <th>size</th>\n",
       "      <th>budget</th>\n",
       "    </tr>\n",
       "    <tr>\n",
       "      <th>school_name</th>\n",
       "      <th></th>\n",
       "      <th></th>\n",
       "      <th></th>\n",
       "      <th></th>\n",
       "      <th></th>\n",
       "      <th></th>\n",
       "    </tr>\n",
       "  </thead>\n",
       "  <tbody>\n",
       "    <tr>\n",
       "      <th>Bailey High School</th>\n",
       "      <td>20358.5</td>\n",
       "      <td>81.033963</td>\n",
       "      <td>77.048432</td>\n",
       "      <td>7.0</td>\n",
       "      <td>4976.0</td>\n",
       "      <td>3124928.0</td>\n",
       "    </tr>\n",
       "    <tr>\n",
       "      <th>Cabrera High School</th>\n",
       "      <td>16941.5</td>\n",
       "      <td>83.975780</td>\n",
       "      <td>83.061895</td>\n",
       "      <td>6.0</td>\n",
       "      <td>1858.0</td>\n",
       "      <td>1081356.0</td>\n",
       "    </tr>\n",
       "    <tr>\n",
       "      <th>Figueroa High School</th>\n",
       "      <td>4391.0</td>\n",
       "      <td>81.158020</td>\n",
       "      <td>76.711767</td>\n",
       "      <td>1.0</td>\n",
       "      <td>2949.0</td>\n",
       "      <td>1884411.0</td>\n",
       "    </tr>\n",
       "    <tr>\n",
       "      <th>Ford High School</th>\n",
       "      <td>36165.0</td>\n",
       "      <td>80.746258</td>\n",
       "      <td>77.102592</td>\n",
       "      <td>13.0</td>\n",
       "      <td>2739.0</td>\n",
       "      <td>1763916.0</td>\n",
       "    </tr>\n",
       "    <tr>\n",
       "      <th>Griffin High School</th>\n",
       "      <td>12995.5</td>\n",
       "      <td>83.816757</td>\n",
       "      <td>83.351499</td>\n",
       "      <td>4.0</td>\n",
       "      <td>1468.0</td>\n",
       "      <td>917500.0</td>\n",
       "    </tr>\n",
       "    <tr>\n",
       "      <th>Hernandez High School</th>\n",
       "      <td>9944.0</td>\n",
       "      <td>80.934412</td>\n",
       "      <td>77.289752</td>\n",
       "      <td>3.0</td>\n",
       "      <td>4635.0</td>\n",
       "      <td>3022020.0</td>\n",
       "    </tr>\n",
       "    <tr>\n",
       "      <th>Holden High School</th>\n",
       "      <td>23060.0</td>\n",
       "      <td>83.814988</td>\n",
       "      <td>83.803279</td>\n",
       "      <td>8.0</td>\n",
       "      <td>427.0</td>\n",
       "      <td>248087.0</td>\n",
       "    </tr>\n",
       "    <tr>\n",
       "      <th>Huang High School</th>\n",
       "      <td>1458.0</td>\n",
       "      <td>81.182722</td>\n",
       "      <td>76.629414</td>\n",
       "      <td>0.0</td>\n",
       "      <td>2917.0</td>\n",
       "      <td>1910635.0</td>\n",
       "    </tr>\n",
       "    <tr>\n",
       "      <th>Johnson High School</th>\n",
       "      <td>32415.0</td>\n",
       "      <td>80.966394</td>\n",
       "      <td>77.072464</td>\n",
       "      <td>12.0</td>\n",
       "      <td>4761.0</td>\n",
       "      <td>3094650.0</td>\n",
       "    </tr>\n",
       "    <tr>\n",
       "      <th>Pena High School</th>\n",
       "      <td>23754.5</td>\n",
       "      <td>84.044699</td>\n",
       "      <td>83.839917</td>\n",
       "      <td>9.0</td>\n",
       "      <td>962.0</td>\n",
       "      <td>585858.0</td>\n",
       "    </tr>\n",
       "    <tr>\n",
       "      <th>Rodriguez High School</th>\n",
       "      <td>28035.0</td>\n",
       "      <td>80.744686</td>\n",
       "      <td>76.842711</td>\n",
       "      <td>11.0</td>\n",
       "      <td>3999.0</td>\n",
       "      <td>2547363.0</td>\n",
       "    </tr>\n",
       "    <tr>\n",
       "      <th>Shelton High School</th>\n",
       "      <td>6746.0</td>\n",
       "      <td>83.725724</td>\n",
       "      <td>83.359455</td>\n",
       "      <td>2.0</td>\n",
       "      <td>1761.0</td>\n",
       "      <td>1056600.0</td>\n",
       "    </tr>\n",
       "    <tr>\n",
       "      <th>Thomas High School</th>\n",
       "      <td>38352.0</td>\n",
       "      <td>83.848930</td>\n",
       "      <td>83.418349</td>\n",
       "      <td>14.0</td>\n",
       "      <td>1635.0</td>\n",
       "      <td>1043130.0</td>\n",
       "    </tr>\n",
       "    <tr>\n",
       "      <th>Wilson High School</th>\n",
       "      <td>14871.0</td>\n",
       "      <td>83.989488</td>\n",
       "      <td>83.274201</td>\n",
       "      <td>5.0</td>\n",
       "      <td>2283.0</td>\n",
       "      <td>1319574.0</td>\n",
       "    </tr>\n",
       "    <tr>\n",
       "      <th>Wright High School</th>\n",
       "      <td>25135.5</td>\n",
       "      <td>83.955000</td>\n",
       "      <td>83.682222</td>\n",
       "      <td>10.0</td>\n",
       "      <td>1800.0</td>\n",
       "      <td>1049400.0</td>\n",
       "    </tr>\n",
       "  </tbody>\n",
       "</table>\n",
       "</div>"
      ],
      "text/plain": [
       "                       Student ID  reading_score  math_score  School ID  \\\n",
       "school_name                                                               \n",
       "Bailey High School        20358.5      81.033963   77.048432        7.0   \n",
       "Cabrera High School       16941.5      83.975780   83.061895        6.0   \n",
       "Figueroa High School       4391.0      81.158020   76.711767        1.0   \n",
       "Ford High School          36165.0      80.746258   77.102592       13.0   \n",
       "Griffin High School       12995.5      83.816757   83.351499        4.0   \n",
       "Hernandez High School      9944.0      80.934412   77.289752        3.0   \n",
       "Holden High School        23060.0      83.814988   83.803279        8.0   \n",
       "Huang High School          1458.0      81.182722   76.629414        0.0   \n",
       "Johnson High School       32415.0      80.966394   77.072464       12.0   \n",
       "Pena High School          23754.5      84.044699   83.839917        9.0   \n",
       "Rodriguez High School     28035.0      80.744686   76.842711       11.0   \n",
       "Shelton High School        6746.0      83.725724   83.359455        2.0   \n",
       "Thomas High School        38352.0      83.848930   83.418349       14.0   \n",
       "Wilson High School        14871.0      83.989488   83.274201        5.0   \n",
       "Wright High School        25135.5      83.955000   83.682222       10.0   \n",
       "\n",
       "                         size     budget  \n",
       "school_name                               \n",
       "Bailey High School     4976.0  3124928.0  \n",
       "Cabrera High School    1858.0  1081356.0  \n",
       "Figueroa High School   2949.0  1884411.0  \n",
       "Ford High School       2739.0  1763916.0  \n",
       "Griffin High School    1468.0   917500.0  \n",
       "Hernandez High School  4635.0  3022020.0  \n",
       "Holden High School      427.0   248087.0  \n",
       "Huang High School      2917.0  1910635.0  \n",
       "Johnson High School    4761.0  3094650.0  \n",
       "Pena High School        962.0   585858.0  \n",
       "Rodriguez High School  3999.0  2547363.0  \n",
       "Shelton High School    1761.0  1056600.0  \n",
       "Thomas High School     1635.0  1043130.0  \n",
       "Wilson High School     2283.0  1319574.0  \n",
       "Wright High School     1800.0  1049400.0  "
      ]
     },
     "execution_count": 38,
     "metadata": {},
     "output_type": "execute_result"
    }
   ],
   "source": [
    "#avg math score groupby\"school_name\n",
    "avg_math= school_data_complete.groupby([\"school_name\"]).mean([\"math_score\"])\n",
    "avg_math"
   ]
  },
  {
   "cell_type": "code",
   "execution_count": 40,
   "metadata": {},
   "outputs": [
    {
     "data": {
      "text/html": [
       "<div>\n",
       "<style scoped>\n",
       "    .dataframe tbody tr th:only-of-type {\n",
       "        vertical-align: middle;\n",
       "    }\n",
       "\n",
       "    .dataframe tbody tr th {\n",
       "        vertical-align: top;\n",
       "    }\n",
       "\n",
       "    .dataframe thead th {\n",
       "        text-align: right;\n",
       "    }\n",
       "</style>\n",
       "<table border=\"1\" class=\"dataframe\">\n",
       "  <thead>\n",
       "    <tr style=\"text-align: right;\">\n",
       "      <th></th>\n",
       "      <th>Student ID</th>\n",
       "      <th>reading_score</th>\n",
       "      <th>math_score</th>\n",
       "      <th>School ID</th>\n",
       "      <th>size</th>\n",
       "      <th>budget</th>\n",
       "    </tr>\n",
       "    <tr>\n",
       "      <th>school_name</th>\n",
       "      <th></th>\n",
       "      <th></th>\n",
       "      <th></th>\n",
       "      <th></th>\n",
       "      <th></th>\n",
       "      <th></th>\n",
       "    </tr>\n",
       "  </thead>\n",
       "  <tbody>\n",
       "    <tr>\n",
       "      <th>Bailey High School</th>\n",
       "      <td>20358.5</td>\n",
       "      <td>81.033963</td>\n",
       "      <td>77.048432</td>\n",
       "      <td>7.0</td>\n",
       "      <td>4976.0</td>\n",
       "      <td>3124928.0</td>\n",
       "    </tr>\n",
       "    <tr>\n",
       "      <th>Cabrera High School</th>\n",
       "      <td>16941.5</td>\n",
       "      <td>83.975780</td>\n",
       "      <td>83.061895</td>\n",
       "      <td>6.0</td>\n",
       "      <td>1858.0</td>\n",
       "      <td>1081356.0</td>\n",
       "    </tr>\n",
       "    <tr>\n",
       "      <th>Figueroa High School</th>\n",
       "      <td>4391.0</td>\n",
       "      <td>81.158020</td>\n",
       "      <td>76.711767</td>\n",
       "      <td>1.0</td>\n",
       "      <td>2949.0</td>\n",
       "      <td>1884411.0</td>\n",
       "    </tr>\n",
       "    <tr>\n",
       "      <th>Ford High School</th>\n",
       "      <td>36165.0</td>\n",
       "      <td>80.746258</td>\n",
       "      <td>77.102592</td>\n",
       "      <td>13.0</td>\n",
       "      <td>2739.0</td>\n",
       "      <td>1763916.0</td>\n",
       "    </tr>\n",
       "    <tr>\n",
       "      <th>Griffin High School</th>\n",
       "      <td>12995.5</td>\n",
       "      <td>83.816757</td>\n",
       "      <td>83.351499</td>\n",
       "      <td>4.0</td>\n",
       "      <td>1468.0</td>\n",
       "      <td>917500.0</td>\n",
       "    </tr>\n",
       "    <tr>\n",
       "      <th>Hernandez High School</th>\n",
       "      <td>9944.0</td>\n",
       "      <td>80.934412</td>\n",
       "      <td>77.289752</td>\n",
       "      <td>3.0</td>\n",
       "      <td>4635.0</td>\n",
       "      <td>3022020.0</td>\n",
       "    </tr>\n",
       "    <tr>\n",
       "      <th>Holden High School</th>\n",
       "      <td>23060.0</td>\n",
       "      <td>83.814988</td>\n",
       "      <td>83.803279</td>\n",
       "      <td>8.0</td>\n",
       "      <td>427.0</td>\n",
       "      <td>248087.0</td>\n",
       "    </tr>\n",
       "    <tr>\n",
       "      <th>Huang High School</th>\n",
       "      <td>1458.0</td>\n",
       "      <td>81.182722</td>\n",
       "      <td>76.629414</td>\n",
       "      <td>0.0</td>\n",
       "      <td>2917.0</td>\n",
       "      <td>1910635.0</td>\n",
       "    </tr>\n",
       "    <tr>\n",
       "      <th>Johnson High School</th>\n",
       "      <td>32415.0</td>\n",
       "      <td>80.966394</td>\n",
       "      <td>77.072464</td>\n",
       "      <td>12.0</td>\n",
       "      <td>4761.0</td>\n",
       "      <td>3094650.0</td>\n",
       "    </tr>\n",
       "    <tr>\n",
       "      <th>Pena High School</th>\n",
       "      <td>23754.5</td>\n",
       "      <td>84.044699</td>\n",
       "      <td>83.839917</td>\n",
       "      <td>9.0</td>\n",
       "      <td>962.0</td>\n",
       "      <td>585858.0</td>\n",
       "    </tr>\n",
       "    <tr>\n",
       "      <th>Rodriguez High School</th>\n",
       "      <td>28035.0</td>\n",
       "      <td>80.744686</td>\n",
       "      <td>76.842711</td>\n",
       "      <td>11.0</td>\n",
       "      <td>3999.0</td>\n",
       "      <td>2547363.0</td>\n",
       "    </tr>\n",
       "    <tr>\n",
       "      <th>Shelton High School</th>\n",
       "      <td>6746.0</td>\n",
       "      <td>83.725724</td>\n",
       "      <td>83.359455</td>\n",
       "      <td>2.0</td>\n",
       "      <td>1761.0</td>\n",
       "      <td>1056600.0</td>\n",
       "    </tr>\n",
       "    <tr>\n",
       "      <th>Thomas High School</th>\n",
       "      <td>38352.0</td>\n",
       "      <td>83.848930</td>\n",
       "      <td>83.418349</td>\n",
       "      <td>14.0</td>\n",
       "      <td>1635.0</td>\n",
       "      <td>1043130.0</td>\n",
       "    </tr>\n",
       "    <tr>\n",
       "      <th>Wilson High School</th>\n",
       "      <td>14871.0</td>\n",
       "      <td>83.989488</td>\n",
       "      <td>83.274201</td>\n",
       "      <td>5.0</td>\n",
       "      <td>2283.0</td>\n",
       "      <td>1319574.0</td>\n",
       "    </tr>\n",
       "    <tr>\n",
       "      <th>Wright High School</th>\n",
       "      <td>25135.5</td>\n",
       "      <td>83.955000</td>\n",
       "      <td>83.682222</td>\n",
       "      <td>10.0</td>\n",
       "      <td>1800.0</td>\n",
       "      <td>1049400.0</td>\n",
       "    </tr>\n",
       "  </tbody>\n",
       "</table>\n",
       "</div>"
      ],
      "text/plain": [
       "                       Student ID  reading_score  math_score  School ID  \\\n",
       "school_name                                                               \n",
       "Bailey High School        20358.5      81.033963   77.048432        7.0   \n",
       "Cabrera High School       16941.5      83.975780   83.061895        6.0   \n",
       "Figueroa High School       4391.0      81.158020   76.711767        1.0   \n",
       "Ford High School          36165.0      80.746258   77.102592       13.0   \n",
       "Griffin High School       12995.5      83.816757   83.351499        4.0   \n",
       "Hernandez High School      9944.0      80.934412   77.289752        3.0   \n",
       "Holden High School        23060.0      83.814988   83.803279        8.0   \n",
       "Huang High School          1458.0      81.182722   76.629414        0.0   \n",
       "Johnson High School       32415.0      80.966394   77.072464       12.0   \n",
       "Pena High School          23754.5      84.044699   83.839917        9.0   \n",
       "Rodriguez High School     28035.0      80.744686   76.842711       11.0   \n",
       "Shelton High School        6746.0      83.725724   83.359455        2.0   \n",
       "Thomas High School        38352.0      83.848930   83.418349       14.0   \n",
       "Wilson High School        14871.0      83.989488   83.274201        5.0   \n",
       "Wright High School        25135.5      83.955000   83.682222       10.0   \n",
       "\n",
       "                         size     budget  \n",
       "school_name                               \n",
       "Bailey High School     4976.0  3124928.0  \n",
       "Cabrera High School    1858.0  1081356.0  \n",
       "Figueroa High School   2949.0  1884411.0  \n",
       "Ford High School       2739.0  1763916.0  \n",
       "Griffin High School    1468.0   917500.0  \n",
       "Hernandez High School  4635.0  3022020.0  \n",
       "Holden High School      427.0   248087.0  \n",
       "Huang High School      2917.0  1910635.0  \n",
       "Johnson High School    4761.0  3094650.0  \n",
       "Pena High School        962.0   585858.0  \n",
       "Rodriguez High School  3999.0  2547363.0  \n",
       "Shelton High School    1761.0  1056600.0  \n",
       "Thomas High School     1635.0  1043130.0  \n",
       "Wilson High School     2283.0  1319574.0  \n",
       "Wright High School     1800.0  1049400.0  "
      ]
     },
     "execution_count": 40,
     "metadata": {},
     "output_type": "execute_result"
    }
   ],
   "source": [
    "avg_read= school_data_complete.groupby([\"school_name\"]).mean([\"reading_score\"])\n",
    "avg_read"
   ]
  },
  {
   "cell_type": "code",
   "execution_count": 58,
   "metadata": {},
   "outputs": [
    {
     "ename": "AttributeError",
     "evalue": "'DataFrameGroupBy' object has no attribute 'shape'",
     "output_type": "error",
     "traceback": [
      "\u001b[1;31m---------------------------------------------------------------------------\u001b[0m",
      "\u001b[1;31mAttributeError\u001b[0m                            Traceback (most recent call last)",
      "\u001b[1;32mc:\\Users\\andreas h\\Desktop\\python homework\\Starter_Code (6)\\Instructions\\PyCitySchools\\PyCitySchools_starter.ipynb Cell 23\u001b[0m in \u001b[0;36m<cell line: 3>\u001b[1;34m()\u001b[0m\n\u001b[0;32m      <a href='vscode-notebook-cell:/c%3A/Users/andreas%20h/Desktop/python%20homework/Starter_Code%20%286%29/Instructions/PyCitySchools/PyCitySchools_starter.ipynb#X61sZmlsZQ%3D%3D?line=0'>1</a>\u001b[0m \u001b[39m#avg passing reading + math\u001b[39;00m\n\u001b[0;32m      <a href='vscode-notebook-cell:/c%3A/Users/andreas%20h/Desktop/python%20homework/Starter_Code%20%286%29/Instructions/PyCitySchools/PyCitySchools_starter.ipynb#X61sZmlsZQ%3D%3D?line=1'>2</a>\u001b[0m avg_pass\u001b[39m=\u001b[39m school_data_complete\u001b[39m.\u001b[39mloc[school_data_complete[\u001b[39m\"\u001b[39m\u001b[39mmath_score\u001b[39m\u001b[39m\"\u001b[39m]\u001b[39m>\u001b[39m\u001b[39m=\u001b[39m\u001b[39m70\u001b[39m]\n\u001b[1;32m----> <a href='vscode-notebook-cell:/c%3A/Users/andreas%20h/Desktop/python%20homework/Starter_Code%20%286%29/Instructions/PyCitySchools/PyCitySchools_starter.ipynb#X61sZmlsZQ%3D%3D?line=2'>3</a>\u001b[0m avg_pass_by_school\u001b[39m=\u001b[39mavg_pass\u001b[39m.\u001b[39;49mgroupby([\u001b[39m\"\u001b[39;49m\u001b[39mschool_name\u001b[39;49m\u001b[39m\"\u001b[39;49m])\u001b[39m.\u001b[39;49mshape[\u001b[39m0\u001b[39m][\u001b[39m\"\u001b[39m\u001b[39mstudent_name\u001b[39m\u001b[39m\"\u001b[39m] \u001b[39m/\u001b[39m school_data[\u001b[39m\"\u001b[39m\u001b[39msize\u001b[39m\u001b[39m\"\u001b[39m] \u001b[39m*\u001b[39m \u001b[39m100\u001b[39m\n\u001b[0;32m      <a href='vscode-notebook-cell:/c%3A/Users/andreas%20h/Desktop/python%20homework/Starter_Code%20%286%29/Instructions/PyCitySchools/PyCitySchools_starter.ipynb#X61sZmlsZQ%3D%3D?line=3'>4</a>\u001b[0m avg_pass_by_school\n",
      "File \u001b[1;32mc:\\Users\\andreas h\\anaconda3\\lib\\site-packages\\pandas\\core\\groupby\\groupby.py:904\u001b[0m, in \u001b[0;36mGroupBy.__getattr__\u001b[1;34m(self, attr)\u001b[0m\n\u001b[0;32m    901\u001b[0m \u001b[39mif\u001b[39;00m attr \u001b[39min\u001b[39;00m \u001b[39mself\u001b[39m\u001b[39m.\u001b[39mobj:\n\u001b[0;32m    902\u001b[0m     \u001b[39mreturn\u001b[39;00m \u001b[39mself\u001b[39m[attr]\n\u001b[1;32m--> 904\u001b[0m \u001b[39mraise\u001b[39;00m \u001b[39mAttributeError\u001b[39;00m(\n\u001b[0;32m    905\u001b[0m     \u001b[39mf\u001b[39m\u001b[39m\"\u001b[39m\u001b[39m'\u001b[39m\u001b[39m{\u001b[39;00m\u001b[39mtype\u001b[39m(\u001b[39mself\u001b[39m)\u001b[39m.\u001b[39m\u001b[39m__name__\u001b[39m\u001b[39m}\u001b[39;00m\u001b[39m'\u001b[39m\u001b[39m object has no attribute \u001b[39m\u001b[39m'\u001b[39m\u001b[39m{\u001b[39;00mattr\u001b[39m}\u001b[39;00m\u001b[39m'\u001b[39m\u001b[39m\"\u001b[39m\n\u001b[0;32m    906\u001b[0m )\n",
      "\u001b[1;31mAttributeError\u001b[0m: 'DataFrameGroupBy' object has no attribute 'shape'"
     ]
    }
   ],
   "source": [
    "#avg passing reading + math\n",
    "avg_pass= school_data_complete.loc[school_data_complete[\"math_score\"]>=70]\n",
    "avg_pass_by_school=avg_pass.groupby([\"school_name\"]).shape[0][\"student_name\"] / school_data[\"size\"] * 100\n",
    "avg_pass_by_school"
   ]
  },
  {
   "cell_type": "code",
   "execution_count": 61,
   "metadata": {},
   "outputs": [
    {
     "ename": "ValueError",
     "evalue": "Buffer has wrong number of dimensions (expected 1, got 2)",
     "output_type": "error",
     "traceback": [
      "\u001b[1;31m---------------------------------------------------------------------------\u001b[0m",
      "\u001b[1;31mValueError\u001b[0m                                Traceback (most recent call last)",
      "\u001b[1;32mc:\\Users\\andreas h\\Desktop\\python homework\\Starter_Code (6)\\Instructions\\PyCitySchools\\PyCitySchools_starter.ipynb Cell 24\u001b[0m in \u001b[0;36m<cell line: 2>\u001b[1;34m()\u001b[0m\n\u001b[0;32m      <a href='vscode-notebook-cell:/c%3A/Users/andreas%20h/Desktop/python%20homework/Starter_Code%20%286%29/Instructions/PyCitySchools/PyCitySchools_starter.ipynb#X65sZmlsZQ%3D%3D?line=0'>1</a>\u001b[0m \u001b[39m#overview DF\u001b[39;00m\n\u001b[1;32m----> <a href='vscode-notebook-cell:/c%3A/Users/andreas%20h/Desktop/python%20homework/Starter_Code%20%286%29/Instructions/PyCitySchools/PyCitySchools_starter.ipynb#X65sZmlsZQ%3D%3D?line=1'>2</a>\u001b[0m overview_df\u001b[39m=\u001b[39mpd\u001b[39m.\u001b[39;49mDataFrame({\u001b[39m\"\u001b[39;49m\u001b[39mtotal students\u001b[39;49m\u001b[39m\"\u001b[39;49m:school_name_type,\n\u001b[0;32m      <a href='vscode-notebook-cell:/c%3A/Users/andreas%20h/Desktop/python%20homework/Starter_Code%20%286%29/Instructions/PyCitySchools/PyCitySchools_starter.ipynb#X65sZmlsZQ%3D%3D?line=2'>3</a>\u001b[0m                         \u001b[39m\"\u001b[39;49m\u001b[39mper student budget\u001b[39;49m\u001b[39m\"\u001b[39;49m: budget_per_student,\n\u001b[0;32m      <a href='vscode-notebook-cell:/c%3A/Users/andreas%20h/Desktop/python%20homework/Starter_Code%20%286%29/Instructions/PyCitySchools/PyCitySchools_starter.ipynb#X65sZmlsZQ%3D%3D?line=3'>4</a>\u001b[0m                         \u001b[39m\"\u001b[39;49m\u001b[39maverage amth score\u001b[39;49m\u001b[39m\"\u001b[39;49m: avg_math,\n\u001b[0;32m      <a href='vscode-notebook-cell:/c%3A/Users/andreas%20h/Desktop/python%20homework/Starter_Code%20%286%29/Instructions/PyCitySchools/PyCitySchools_starter.ipynb#X65sZmlsZQ%3D%3D?line=4'>5</a>\u001b[0m                         \u001b[39m\"\u001b[39;49m\u001b[39maverage reading score\u001b[39;49m\u001b[39m\"\u001b[39;49m: avg_read,\n\u001b[0;32m      <a href='vscode-notebook-cell:/c%3A/Users/andreas%20h/Desktop/python%20homework/Starter_Code%20%286%29/Instructions/PyCitySchools/PyCitySchools_starter.ipynb#X65sZmlsZQ%3D%3D?line=5'>6</a>\u001b[0m                         \u001b[39m\"\u001b[39;49m\u001b[39mpassing math by school\u001b[39;49m\u001b[39m\"\u001b[39;49m: avg_pass})\n",
      "File \u001b[1;32mc:\\Users\\andreas h\\anaconda3\\lib\\site-packages\\pandas\\core\\frame.py:636\u001b[0m, in \u001b[0;36mDataFrame.__init__\u001b[1;34m(self, data, index, columns, dtype, copy)\u001b[0m\n\u001b[0;32m    630\u001b[0m     mgr \u001b[39m=\u001b[39m \u001b[39mself\u001b[39m\u001b[39m.\u001b[39m_init_mgr(\n\u001b[0;32m    631\u001b[0m         data, axes\u001b[39m=\u001b[39m{\u001b[39m\"\u001b[39m\u001b[39mindex\u001b[39m\u001b[39m\"\u001b[39m: index, \u001b[39m\"\u001b[39m\u001b[39mcolumns\u001b[39m\u001b[39m\"\u001b[39m: columns}, dtype\u001b[39m=\u001b[39mdtype, copy\u001b[39m=\u001b[39mcopy\n\u001b[0;32m    632\u001b[0m     )\n\u001b[0;32m    634\u001b[0m \u001b[39melif\u001b[39;00m \u001b[39misinstance\u001b[39m(data, \u001b[39mdict\u001b[39m):\n\u001b[0;32m    635\u001b[0m     \u001b[39m# GH#38939 de facto copy defaults to False only in non-dict cases\u001b[39;00m\n\u001b[1;32m--> 636\u001b[0m     mgr \u001b[39m=\u001b[39m dict_to_mgr(data, index, columns, dtype\u001b[39m=\u001b[39;49mdtype, copy\u001b[39m=\u001b[39;49mcopy, typ\u001b[39m=\u001b[39;49mmanager)\n\u001b[0;32m    637\u001b[0m \u001b[39melif\u001b[39;00m \u001b[39misinstance\u001b[39m(data, ma\u001b[39m.\u001b[39mMaskedArray):\n\u001b[0;32m    638\u001b[0m     \u001b[39mimport\u001b[39;00m \u001b[39mnumpy\u001b[39;00m\u001b[39m.\u001b[39;00m\u001b[39mma\u001b[39;00m\u001b[39m.\u001b[39;00m\u001b[39mmrecords\u001b[39;00m \u001b[39mas\u001b[39;00m \u001b[39mmrecords\u001b[39;00m\n",
      "File \u001b[1;32mc:\\Users\\andreas h\\anaconda3\\lib\\site-packages\\pandas\\core\\internals\\construction.py:502\u001b[0m, in \u001b[0;36mdict_to_mgr\u001b[1;34m(data, index, columns, dtype, typ, copy)\u001b[0m\n\u001b[0;32m    494\u001b[0m     arrays \u001b[39m=\u001b[39m [\n\u001b[0;32m    495\u001b[0m         x\n\u001b[0;32m    496\u001b[0m         \u001b[39mif\u001b[39;00m \u001b[39mnot\u001b[39;00m \u001b[39mhasattr\u001b[39m(x, \u001b[39m\"\u001b[39m\u001b[39mdtype\u001b[39m\u001b[39m\"\u001b[39m) \u001b[39mor\u001b[39;00m \u001b[39mnot\u001b[39;00m \u001b[39misinstance\u001b[39m(x\u001b[39m.\u001b[39mdtype, ExtensionDtype)\n\u001b[0;32m    497\u001b[0m         \u001b[39melse\u001b[39;00m x\u001b[39m.\u001b[39mcopy()\n\u001b[0;32m    498\u001b[0m         \u001b[39mfor\u001b[39;00m x \u001b[39min\u001b[39;00m arrays\n\u001b[0;32m    499\u001b[0m     ]\n\u001b[0;32m    500\u001b[0m     \u001b[39m# TODO: can we get rid of the dt64tz special case above?\u001b[39;00m\n\u001b[1;32m--> 502\u001b[0m \u001b[39mreturn\u001b[39;00m arrays_to_mgr(arrays, columns, index, dtype\u001b[39m=\u001b[39;49mdtype, typ\u001b[39m=\u001b[39;49mtyp, consolidate\u001b[39m=\u001b[39;49mcopy)\n",
      "File \u001b[1;32mc:\\Users\\andreas h\\anaconda3\\lib\\site-packages\\pandas\\core\\internals\\construction.py:125\u001b[0m, in \u001b[0;36marrays_to_mgr\u001b[1;34m(arrays, columns, index, dtype, verify_integrity, typ, consolidate)\u001b[0m\n\u001b[0;32m    122\u001b[0m         index \u001b[39m=\u001b[39m ensure_index(index)\n\u001b[0;32m    124\u001b[0m     \u001b[39m# don't force copy because getting jammed in an ndarray anyway\u001b[39;00m\n\u001b[1;32m--> 125\u001b[0m     arrays \u001b[39m=\u001b[39m _homogenize(arrays, index, dtype)\n\u001b[0;32m    126\u001b[0m     \u001b[39m# _homogenize ensures\u001b[39;00m\n\u001b[0;32m    127\u001b[0m     \u001b[39m#  - all(len(x) == len(index) for x in arrays)\u001b[39;00m\n\u001b[0;32m    128\u001b[0m     \u001b[39m#  - all(x.ndim == 1 for x in arrays)\u001b[39;00m\n\u001b[1;32m   (...)\u001b[0m\n\u001b[0;32m    131\u001b[0m \n\u001b[0;32m    132\u001b[0m \u001b[39melse\u001b[39;00m:\n\u001b[0;32m    133\u001b[0m     index \u001b[39m=\u001b[39m ensure_index(index)\n",
      "File \u001b[1;32mc:\\Users\\andreas h\\anaconda3\\lib\\site-packages\\pandas\\core\\internals\\construction.py:625\u001b[0m, in \u001b[0;36m_homogenize\u001b[1;34m(data, index, dtype)\u001b[0m\n\u001b[0;32m    622\u001b[0m             val \u001b[39m=\u001b[39m \u001b[39mdict\u001b[39m(val)\n\u001b[0;32m    623\u001b[0m         val \u001b[39m=\u001b[39m lib\u001b[39m.\u001b[39mfast_multiget(val, oindex\u001b[39m.\u001b[39m_values, default\u001b[39m=\u001b[39mnp\u001b[39m.\u001b[39mnan)\n\u001b[1;32m--> 625\u001b[0m     val \u001b[39m=\u001b[39m sanitize_array(\n\u001b[0;32m    626\u001b[0m         val, index, dtype\u001b[39m=\u001b[39;49mdtype, copy\u001b[39m=\u001b[39;49m\u001b[39mFalse\u001b[39;49;00m, raise_cast_failure\u001b[39m=\u001b[39;49m\u001b[39mFalse\u001b[39;49;00m\n\u001b[0;32m    627\u001b[0m     )\n\u001b[0;32m    628\u001b[0m     com\u001b[39m.\u001b[39mrequire_length_match(val, index)\n\u001b[0;32m    630\u001b[0m homogenized\u001b[39m.\u001b[39mappend(val)\n",
      "File \u001b[1;32mc:\\Users\\andreas h\\anaconda3\\lib\\site-packages\\pandas\\core\\construction.py:593\u001b[0m, in \u001b[0;36msanitize_array\u001b[1;34m(data, index, dtype, copy, raise_cast_failure, allow_2d)\u001b[0m\n\u001b[0;32m    591\u001b[0m     subarr \u001b[39m=\u001b[39m _try_cast(data, dtype, copy, raise_cast_failure)\n\u001b[0;32m    592\u001b[0m \u001b[39melse\u001b[39;00m:\n\u001b[1;32m--> 593\u001b[0m     subarr \u001b[39m=\u001b[39m maybe_convert_platform(data)\n\u001b[0;32m    594\u001b[0m     \u001b[39mif\u001b[39;00m subarr\u001b[39m.\u001b[39mdtype \u001b[39m==\u001b[39m \u001b[39mobject\u001b[39m:\n\u001b[0;32m    595\u001b[0m         subarr \u001b[39m=\u001b[39m cast(np\u001b[39m.\u001b[39mndarray, subarr)\n",
      "File \u001b[1;32mc:\\Users\\andreas h\\anaconda3\\lib\\site-packages\\pandas\\core\\dtypes\\cast.py:130\u001b[0m, in \u001b[0;36mmaybe_convert_platform\u001b[1;34m(values)\u001b[0m\n\u001b[0;32m    128\u001b[0m \u001b[39mif\u001b[39;00m arr\u001b[39m.\u001b[39mdtype \u001b[39m==\u001b[39m _dtype_obj:\n\u001b[0;32m    129\u001b[0m     arr \u001b[39m=\u001b[39m cast(np\u001b[39m.\u001b[39mndarray, arr)\n\u001b[1;32m--> 130\u001b[0m     arr \u001b[39m=\u001b[39m lib\u001b[39m.\u001b[39;49mmaybe_convert_objects(arr)\n\u001b[0;32m    132\u001b[0m \u001b[39mreturn\u001b[39;00m arr\n",
      "File \u001b[1;32mc:\\Users\\andreas h\\anaconda3\\lib\\site-packages\\pandas\\_libs\\lib.pyx:2395\u001b[0m, in \u001b[0;36mpandas._libs.lib.maybe_convert_objects\u001b[1;34m()\u001b[0m\n",
      "\u001b[1;31mValueError\u001b[0m: Buffer has wrong number of dimensions (expected 1, got 2)"
     ]
    }
   ],
   "source": [
    "#overview DF\n",
    "overview_df=pd.DataFrame({\"total students\":school_name_type,\n",
    "                        \"per student budget\": budget_per_student,\n",
    "                        \"average amth score\": avg_math,\n",
    "                        \"average reading score\": avg_read,\n",
    "                        \"passing math by school\": avg_pass})"
   ]
  },
  {
   "cell_type": "markdown",
   "metadata": {},
   "source": [
    "## Top Performing Schools (By % Overall Passing)"
   ]
  },
  {
   "cell_type": "markdown",
   "metadata": {},
   "source": [
    "* Sort and display the top five performing schools by % overall passing."
   ]
  },
  {
   "cell_type": "code",
   "execution_count": null,
   "metadata": {
    "scrolled": true
   },
   "outputs": [],
   "source": []
  },
  {
   "cell_type": "markdown",
   "metadata": {},
   "source": [
    "## Bottom Performing Schools (By % Overall Passing)"
   ]
  },
  {
   "cell_type": "markdown",
   "metadata": {},
   "source": [
    "* Sort and display the five worst-performing schools by % overall passing."
   ]
  },
  {
   "cell_type": "code",
   "execution_count": null,
   "metadata": {},
   "outputs": [],
   "source": []
  },
  {
   "cell_type": "markdown",
   "metadata": {
    "collapsed": true
   },
   "source": [
    "## Math Scores by Grade"
   ]
  },
  {
   "cell_type": "markdown",
   "metadata": {},
   "source": [
    "* Create a table that lists the average Reading Score for students of each grade level (9th, 10th, 11th, 12th) at each school.\n",
    "\n",
    "  * Create a pandas series for each grade. Hint: use a conditional statement.\n",
    "  \n",
    "  * Group each series by school\n",
    "  \n",
    "  * Combine the series into a dataframe\n",
    "  \n",
    "  * Optional: give the displayed data cleaner formatting"
   ]
  },
  {
   "cell_type": "code",
   "execution_count": null,
   "metadata": {},
   "outputs": [],
   "source": []
  },
  {
   "cell_type": "markdown",
   "metadata": {},
   "source": [
    "## Reading Score by Grade "
   ]
  },
  {
   "cell_type": "markdown",
   "metadata": {},
   "source": [
    "* Perform the same operations as above for reading scores"
   ]
  },
  {
   "cell_type": "code",
   "execution_count": null,
   "metadata": {},
   "outputs": [],
   "source": []
  },
  {
   "cell_type": "markdown",
   "metadata": {},
   "source": [
    "## Scores by School Spending"
   ]
  },
  {
   "cell_type": "markdown",
   "metadata": {},
   "source": [
    "* Create a table that breaks down school performances based on average Spending Ranges (Per Student). Use 4 reasonable bins to group school spending. Include in the table each of the following:\n",
    "  * Average Math Score\n",
    "  * Average Reading Score\n",
    "  * % Passing Math\n",
    "  * % Passing Reading\n",
    "  * Overall Passing Rate (Average of the above two)"
   ]
  },
  {
   "cell_type": "code",
   "execution_count": null,
   "metadata": {},
   "outputs": [],
   "source": []
  },
  {
   "cell_type": "markdown",
   "metadata": {},
   "source": [
    "## Scores by School Size"
   ]
  },
  {
   "cell_type": "markdown",
   "metadata": {},
   "source": [
    "* Perform the same operations as above, based on school size."
   ]
  },
  {
   "cell_type": "code",
   "execution_count": null,
   "metadata": {
    "scrolled": true
   },
   "outputs": [],
   "source": []
  },
  {
   "cell_type": "markdown",
   "metadata": {},
   "source": [
    "## Scores by School Type"
   ]
  },
  {
   "cell_type": "markdown",
   "metadata": {},
   "source": [
    "* Perform the same operations as above, based on school type"
   ]
  },
  {
   "cell_type": "code",
   "execution_count": null,
   "metadata": {},
   "outputs": [],
   "source": []
  },
  {
   "cell_type": "code",
   "execution_count": null,
   "metadata": {},
   "outputs": [],
   "source": []
  }
 ],
 "metadata": {
  "anaconda-cloud": {},
  "kernel_info": {
   "name": "python3"
  },
  "kernelspec": {
   "display_name": "Python 3.9.12 ('base')",
   "language": "python",
   "name": "python3"
  },
  "language_info": {
   "codemirror_mode": {
    "name": "ipython",
    "version": 3
   },
   "file_extension": ".py",
   "mimetype": "text/x-python",
   "name": "python",
   "nbconvert_exporter": "python",
   "pygments_lexer": "ipython3",
   "version": "3.9.12"
  },
  "latex_envs": {
   "LaTeX_envs_menu_present": true,
   "autoclose": false,
   "autocomplete": true,
   "bibliofile": "biblio.bib",
   "cite_by": "apalike",
   "current_citInitial": 1,
   "eqLabelWithNumbers": true,
   "eqNumInitial": 1,
   "hotkeys": {
    "equation": "Ctrl-E",
    "itemize": "Ctrl-I"
   },
   "labels_anchors": false,
   "latex_user_defs": false,
   "report_style_numbering": false,
   "user_envs_cfg": false
  },
  "nteract": {
   "version": "0.8.4"
  },
  "vscode": {
   "interpreter": {
    "hash": "e69ff478b46a3c5f502a27cc4829c5e40f70c1c59167fc228a20d0a40adf7f32"
   }
  }
 },
 "nbformat": 4,
 "nbformat_minor": 1
}
